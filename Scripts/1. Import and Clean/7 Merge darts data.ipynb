{
 "cells": [
  {
   "cell_type": "code",
   "execution_count": 106,
   "metadata": {},
   "outputs": [],
   "source": [
    "import pandas as pd\n",
    "import seaborn\n",
    "from IPython import embed\n",
    "from matplotlib import pyplot as plt\n",
    "from scipy import optimize\n",
    "import numpy as np\n"
   ]
  },
  {
   "cell_type": "code",
   "execution_count": 120,
   "metadata": {},
   "outputs": [],
   "source": [
    "matches_df = pd.read_csv(\"../../Data/dartsdatabase/Averages.csv\")"
   ]
  },
  {
   "cell_type": "code",
   "execution_count": 121,
   "metadata": {},
   "outputs": [
    {
     "data": {
      "text/html": [
       "<div>\n",
       "<style scoped>\n",
       "    .dataframe tbody tr th:only-of-type {\n",
       "        vertical-align: middle;\n",
       "    }\n",
       "\n",
       "    .dataframe tbody tr th {\n",
       "        vertical-align: top;\n",
       "    }\n",
       "\n",
       "    .dataframe thead th {\n",
       "        text-align: right;\n",
       "    }\n",
       "</style>\n",
       "<table border=\"1\" class=\"dataframe\">\n",
       "  <thead>\n",
       "    <tr style=\"text-align: right;\">\n",
       "      <th></th>\n",
       "      <th>Unnamed: 0</th>\n",
       "      <th>player_name</th>\n",
       "      <th>date</th>\n",
       "      <th>event</th>\n",
       "      <th>category</th>\n",
       "      <th>event_round</th>\n",
       "      <th>result</th>\n",
       "      <th>opponent</th>\n",
       "      <th>score</th>\n",
       "      <th>average</th>\n",
       "    </tr>\n",
       "  </thead>\n",
       "  <tbody>\n",
       "    <tr>\n",
       "      <th>0</th>\n",
       "      <td>0</td>\n",
       "      <td>Michael van Gerwen</td>\n",
       "      <td>19/08/2018</td>\n",
       "      <td>Brisbane Masters</td>\n",
       "      <td>PDC U</td>\n",
       "      <td>Final</td>\n",
       "      <td>Lost</td>\n",
       "      <td>Rob Cross</td>\n",
       "      <td>6 V 11</td>\n",
       "      <td>98.41</td>\n",
       "    </tr>\n",
       "    <tr>\n",
       "      <th>1</th>\n",
       "      <td>1</td>\n",
       "      <td>Michael van Gerwen</td>\n",
       "      <td>19/08/2018</td>\n",
       "      <td>Brisbane Masters</td>\n",
       "      <td>PDC U</td>\n",
       "      <td>Semi Final</td>\n",
       "      <td>Won</td>\n",
       "      <td>Raymond van Barneveld</td>\n",
       "      <td>11 V 9</td>\n",
       "      <td>96.81</td>\n",
       "    </tr>\n",
       "    <tr>\n",
       "      <th>2</th>\n",
       "      <td>2</td>\n",
       "      <td>Michael van Gerwen</td>\n",
       "      <td>18/08/2018</td>\n",
       "      <td>Brisbane Masters</td>\n",
       "      <td>PDC U</td>\n",
       "      <td>Quarter Final</td>\n",
       "      <td>Won</td>\n",
       "      <td>Kyle Anderson</td>\n",
       "      <td>10 V 3</td>\n",
       "      <td>98.44</td>\n",
       "    </tr>\n",
       "    <tr>\n",
       "      <th>3</th>\n",
       "      <td>3</td>\n",
       "      <td>Michael van Gerwen</td>\n",
       "      <td>17/08/2018</td>\n",
       "      <td>Brisbane Masters</td>\n",
       "      <td>PDC U</td>\n",
       "      <td>Last 16</td>\n",
       "      <td>Won</td>\n",
       "      <td>Mark Cleaver</td>\n",
       "      <td>6 V 2</td>\n",
       "      <td>99.15</td>\n",
       "    </tr>\n",
       "    <tr>\n",
       "      <th>4</th>\n",
       "      <td>4</td>\n",
       "      <td>Michael van Gerwen</td>\n",
       "      <td>12/08/2018</td>\n",
       "      <td>Melbourne Masters</td>\n",
       "      <td>PDC U</td>\n",
       "      <td>Semi Final</td>\n",
       "      <td>Lost</td>\n",
       "      <td>Peter Wright</td>\n",
       "      <td>7 V 11</td>\n",
       "      <td>103.47</td>\n",
       "    </tr>\n",
       "  </tbody>\n",
       "</table>\n",
       "</div>"
      ],
      "text/plain": [
       "   Unnamed: 0         player_name        date              event category  \\\n",
       "0           0  Michael van Gerwen  19/08/2018   Brisbane Masters    PDC U   \n",
       "1           1  Michael van Gerwen  19/08/2018   Brisbane Masters    PDC U   \n",
       "2           2  Michael van Gerwen  18/08/2018   Brisbane Masters    PDC U   \n",
       "3           3  Michael van Gerwen  17/08/2018   Brisbane Masters    PDC U   \n",
       "4           4  Michael van Gerwen  12/08/2018  Melbourne Masters    PDC U   \n",
       "\n",
       "     event_round result               opponent   score average  \n",
       "0          Final   Lost              Rob Cross  6 V 11   98.41  \n",
       "1     Semi Final    Won  Raymond van Barneveld  11 V 9   96.81  \n",
       "2  Quarter Final    Won          Kyle Anderson  10 V 3   98.44  \n",
       "3        Last 16    Won           Mark Cleaver   6 V 2   99.15  \n",
       "4     Semi Final   Lost           Peter Wright  7 V 11  103.47  "
      ]
     },
     "execution_count": 121,
     "metadata": {},
     "output_type": "execute_result"
    }
   ],
   "source": [
    "matches_df.head()"
   ]
  },
  {
   "cell_type": "code",
   "execution_count": 122,
   "metadata": {},
   "outputs": [],
   "source": [
    "def outcome_map(result):\n",
    "    if result == \"Won\":\n",
    "        return 1.0\n",
    "    elif result == \"Lost\":\n",
    "        return 0.0\n",
    "    else:\n",
    "        return 0.5\n",
    "\n",
    "#Drop matches that haven't yet happened\n",
    "matches_df = matches_df[matches_df['result'] != 'fixture']\n",
    "\n",
    "#Why are there some dups? Need to investigate\n",
    "matches_df.drop_duplicates(inplace=True)\n",
    "\n",
    "#Map outcomes to numerical values\n",
    "matches_df['Outcome'] = matches_df['result'].apply(outcome_map)"
   ]
  },
  {
   "cell_type": "code",
   "execution_count": 123,
   "metadata": {},
   "outputs": [],
   "source": [
    "#Rename columns - same as other versions\n",
    "matches_df.rename(index=str, columns={\"player_name\": \"Player 1\", \"opponent\": \"Player 2\",\"date\":\"Date\"},inplace=True)\n",
    "\n",
    "matches_df['Tourn'] = matches_df['event'].str.upper()\n",
    "\n",
    "matches_df['score'] =matches_df['score'].str.replace(' V ',':')\n",
    "\n"
   ]
  },
  {
   "cell_type": "code",
   "execution_count": 124,
   "metadata": {},
   "outputs": [
    {
     "name": "stderr",
     "output_type": "stream",
     "text": [
      "/Users/oli/anaconda3/lib/python3.6/site-packages/pandas/core/indexing.py:1472: FutureWarning: \n",
      "Passing list-likes to .loc or [] with any missing label will raise\n",
      "KeyError in the future, you can use .reindex() as an alternative.\n",
      "\n",
      "See the documentation here:\n",
      "https://pandas.pydata.org/pandas-docs/stable/indexing.html#deprecate-loc-reindex-listlike\n",
      "  return self._getitem_tuple(key)\n"
     ]
    }
   ],
   "source": [
    "matches_df['Tourn'] = matches_df['Tourn'].str.replace('GRAND SLAM OF DARTS','GRAND SLAM')\n",
    "#Only keep relevant columns\n",
    "elo_df = matches_df.loc[:,['Player 1','Player 2','Outcome','Date','Tourn','score','averege']]\n"
   ]
  },
  {
   "cell_type": "code",
   "execution_count": null,
   "metadata": {},
   "outputs": [],
   "source": []
  },
  {
   "cell_type": "code",
   "execution_count": 125,
   "metadata": {},
   "outputs": [],
   "source": [
    "#Drop mirror image fixtures. Quite crude, need to check\n",
    "already = []\n",
    "for player_name in elo_df['Player 1'].unique():\n",
    "    #Keep if - player name not current one, or rival not in 'already' group. \n",
    "    elo_df = elo_df[(elo_df['Player 1'] != player_name) | (-elo_df['Player 2'].isin(already))]\n",
    "    already.append(player_name)\n",
    "\n",
    "\n",
    "\n",
    "#Keep surname only\n",
    "elo_df['Surname 1'] = elo_df['Player 1'].str.split(' ',n=1).str.get(1).str.upper().str.strip()\n",
    "elo_df['Surname 2'] = elo_df['Player 2'].str.split(' ',n=1).str.get(1).str.upper().str.strip()\n"
   ]
  },
  {
   "cell_type": "code",
   "execution_count": 126,
   "metadata": {},
   "outputs": [],
   "source": [
    "#Turn date into datetime variable\n",
    "elo_df['Date'] = pd.to_datetime(elo_df['Date'])\n",
    "\n",
    "elo_df['year'] =elo_df['Date'].dt.year\n"
   ]
  },
  {
   "cell_type": "code",
   "execution_count": 127,
   "metadata": {},
   "outputs": [],
   "source": [
    "#Merge on odds data - quite crude.\n",
    "\n",
    "odds_df = pd.read_csv(\"../../Data/oddschecker/Darts_odds.csv\")\n",
    "\n",
    "def convert_frac_to_prob(frac):\n",
    "    if \"/\" in frac:\n",
    "        num, denom = frac.split(\"/\")\n",
    "        return int(denom) / (int(num) + int(denom))\n",
    "\n",
    "odds_df['p1_prob'] = odds_df['odds_1'].apply(convert_frac_to_prob)\n",
    "odds_df['p2_prob'] = odds_df['odds_2'].apply(convert_frac_to_prob)\n",
    "\n",
    "\n",
    "date_cleaning = [\n",
    "    ' - Play Offs',\n",
    "    ' - Second stage',\n",
    "    ' - First stage',\n",
    "    ' - Winners stage',\n",
    "    ' - Preliminary'\n",
    "]\n",
    "\n",
    "for str_x in date_cleaning:\n",
    "        odds_df['date'] = odds_df['date'].str.replace(str_x,'')\n",
    "    \n",
    "        \n",
    "odds_df['Date'] = pd.to_datetime(odds_df['date'])\n"
   ]
  },
  {
   "cell_type": "code",
   "execution_count": 128,
   "metadata": {},
   "outputs": [],
   "source": [
    "\n",
    "\n",
    "\n",
    "\n",
    "odds_df['Player 1'] = odds_df['players'].str.split(' - ',n=1).str.get(0)\n",
    "odds_df['Player 2'] = odds_df['players'].str.split(' - ',n=1).str.get(1)\n",
    "\n",
    "odds_df['Surname 1'] = odds_df['Player 1'].str.slice(0,-2).str.upper().str.strip()\n",
    "odds_df['Surname 2'] = odds_df['Player 2'].str.slice(0,-2).str.upper().str.strip()\n",
    "\n",
    "#clean player names\n",
    "surname_cleaning = [\n",
    "    (\"O'\",\"O \" ),\n",
    "    (\"RODRIGUEZ ROW.\",\"RODRIGUEZ\"),\n",
    "    (\"DOBEY C\",\"DOBEY\")\n",
    "]\n",
    "\n",
    "for pair_x in surname_cleaning:\n",
    "    odds_df['Surname 1'] = odds_df['Surname 1'].str.replace(pair_x[0], pair_x[1])\n",
    "    odds_df['Surname 2'] = odds_df['Surname 2'].str.replace(pair_x[0], pair_x[1])\n",
    "\n",
    "odds_df['Tourn']=odds_df['tournament_name'].str.split('/').str.get(-1).str.replace(\"-\",\" \").str.upper()\n",
    "\n"
   ]
  },
  {
   "cell_type": "code",
   "execution_count": 129,
   "metadata": {},
   "outputs": [],
   "source": [
    "#Same odds, the opposite way around\n",
    "opp_df = odds_df.copy()\n",
    "\n",
    "opp_df.rename(index=str, \\\n",
    "columns= {\"odds_1\": \"odds_2\", \"odds_2\": \"odds_1\",\"Player 1\":\"Player 2\",\"Player 2\":\"Player 1\",\"Surname 1\":\"Surname 2\", \\\n",
    "\"Surname 2\":\"Surname 1\"},inplace=True)\n",
    "\n",
    "#Doesn't work for games > 10.\n",
    "opp_df['score']=opp_df['score'].apply(lambda x: x[::-1])\n",
    "\n",
    "odds_df = odds_df.append(opp_df,ignore_index=True,sort=False)\n",
    "        \n"
   ]
  },
  {
   "cell_type": "code",
   "execution_count": 130,
   "metadata": {},
   "outputs": [],
   "source": [
    "merged_df = pd.merge(odds_df, elo_df,  how='right',left_on=['Surname 1','Surname 2','Date'],right_on=['Surname 1','Surname 2','Date'],indicator=True)"
   ]
  },
  {
   "cell_type": "code",
   "execution_count": 131,
   "metadata": {},
   "outputs": [
    {
     "data": {
      "text/plain": [
       "right_only    11203\n",
       "both           3615\n",
       "left_only         0\n",
       "Name: _merge, dtype: int64"
      ]
     },
     "execution_count": 131,
     "metadata": {},
     "output_type": "execute_result"
    }
   ],
   "source": [
    "merged_df['_merge'].value_counts()"
   ]
  },
  {
   "cell_type": "code",
   "execution_count": 93,
   "metadata": {},
   "outputs": [
    {
     "data": {
      "text/plain": [
       "Series([], Name: Surname 1, dtype: object)"
      ]
     },
     "execution_count": 93,
     "metadata": {},
     "output_type": "execute_result"
    }
   ],
   "source": [
    "def count_non_matches(df1,df2,col):\n",
    "    \n",
    "    first = df1[-df1[col].isin(df2[col])][col].value_counts()\n",
    "    second = df2[col].value_counts()\n",
    "    print('first - non matches')\n",
    "    print(first)\n",
    "    print()\n",
    "    print('second - all')\n",
    "    print(second)\n",
    "    \n",
    "#count_non_matches(odds_df,elo_df,'Surname 1')\n",
    "\n",
    "elo_df[elo_df['Surname 1'].str.match('STOMPE')]['Surname 1']"
   ]
  },
  {
   "cell_type": "code",
   "execution_count": null,
   "metadata": {},
   "outputs": [],
   "source": []
  },
  {
   "cell_type": "code",
   "execution_count": 66,
   "metadata": {},
   "outputs": [
    {
     "data": {
      "text/plain": [
       "Index(['odds_1', 'odds_2', 'players', 'score', 'tournament_name', 'year',\n",
       "       'p1_prob', 'p2_prob', 'Player 1', 'Player 2', 'Surname 1', 'Surname 2',\n",
       "       'Tourn'],\n",
       "      dtype='object')"
      ]
     },
     "execution_count": 66,
     "metadata": {},
     "output_type": "execute_result"
    }
   ],
   "source": []
  },
  {
   "cell_type": "code",
   "execution_count": null,
   "metadata": {},
   "outputs": [],
   "source": []
  }
 ],
 "metadata": {
  "kernelspec": {
   "display_name": "Python 3",
   "language": "python",
   "name": "python3"
  },
  "language_info": {
   "codemirror_mode": {
    "name": "ipython",
    "version": 3
   },
   "file_extension": ".py",
   "mimetype": "text/x-python",
   "name": "python",
   "nbconvert_exporter": "python",
   "pygments_lexer": "ipython3",
   "version": "3.6.5"
  }
 },
 "nbformat": 4,
 "nbformat_minor": 2
}
