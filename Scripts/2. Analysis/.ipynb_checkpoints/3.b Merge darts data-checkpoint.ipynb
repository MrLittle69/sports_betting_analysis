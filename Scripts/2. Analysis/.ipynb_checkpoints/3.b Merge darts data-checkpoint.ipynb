{
 "cells": [
  {
   "cell_type": "code",
   "execution_count": 15,
   "metadata": {},
   "outputs": [],
   "source": [
    "import pandas as pd\n",
    "import seaborn\n",
    "from IPython import embed\n",
    "import elo_functions as elo\n",
    "from matplotlib import pyplot as plt\n",
    "from scipy import optimize\n",
    "import numpy as np\n"
   ]
  },
  {
   "cell_type": "code",
   "execution_count": 16,
   "metadata": {},
   "outputs": [],
   "source": [
    "matches_df = pd.read_excel(\"../../Data/dartsdatabase/Results2.xlsx\")"
   ]
  },
  {
   "cell_type": "code",
   "execution_count": 17,
   "metadata": {},
   "outputs": [
    {
     "data": {
      "text/html": [
       "<div>\n",
       "<style scoped>\n",
       "    .dataframe tbody tr th:only-of-type {\n",
       "        vertical-align: middle;\n",
       "    }\n",
       "\n",
       "    .dataframe tbody tr th {\n",
       "        vertical-align: top;\n",
       "    }\n",
       "\n",
       "    .dataframe thead th {\n",
       "        text-align: right;\n",
       "    }\n",
       "</style>\n",
       "<table border=\"1\" class=\"dataframe\">\n",
       "  <thead>\n",
       "    <tr style=\"text-align: right;\">\n",
       "      <th></th>\n",
       "      <th>player_name</th>\n",
       "      <th>date</th>\n",
       "      <th>event</th>\n",
       "      <th>category</th>\n",
       "      <th>event_round</th>\n",
       "      <th>result</th>\n",
       "      <th>opponent</th>\n",
       "      <th>score</th>\n",
       "    </tr>\n",
       "  </thead>\n",
       "  <tbody>\n",
       "    <tr>\n",
       "      <th>0</th>\n",
       "      <td>Michael van Gerwen</td>\n",
       "      <td>10/05/2018</td>\n",
       "      <td>Premier League</td>\n",
       "      <td>PDC U</td>\n",
       "      <td>League 10</td>\n",
       "      <td>Fixture</td>\n",
       "      <td>Gary Anderson</td>\n",
       "      <td></td>\n",
       "    </tr>\n",
       "    <tr>\n",
       "      <th>1</th>\n",
       "      <td>Michael van Gerwen</td>\n",
       "      <td>06/05/2018</td>\n",
       "      <td>PDC European Darts Grand Prix</td>\n",
       "      <td>PDC ET</td>\n",
       "      <td>Final</td>\n",
       "      <td>Won</td>\n",
       "      <td>James Wade</td>\n",
       "      <td>8 V 3</td>\n",
       "    </tr>\n",
       "    <tr>\n",
       "      <th>2</th>\n",
       "      <td>Michael van Gerwen</td>\n",
       "      <td>06/05/2018</td>\n",
       "      <td>PDC European Darts Grand Prix</td>\n",
       "      <td>PDC ET</td>\n",
       "      <td>Semi Final</td>\n",
       "      <td>Won</td>\n",
       "      <td>Michael Smith</td>\n",
       "      <td>7 V 0</td>\n",
       "    </tr>\n",
       "    <tr>\n",
       "      <th>3</th>\n",
       "      <td>Michael van Gerwen</td>\n",
       "      <td>06/05/2018</td>\n",
       "      <td>PDC European Darts Grand Prix</td>\n",
       "      <td>PDC ET</td>\n",
       "      <td>Quarter Final</td>\n",
       "      <td>Won</td>\n",
       "      <td>Dave Chisnall</td>\n",
       "      <td>6 V 4</td>\n",
       "    </tr>\n",
       "    <tr>\n",
       "      <th>4</th>\n",
       "      <td>Michael van Gerwen</td>\n",
       "      <td>06/05/2018</td>\n",
       "      <td>PDC European Darts Grand Prix</td>\n",
       "      <td>PDC ET</td>\n",
       "      <td>Last 16</td>\n",
       "      <td>Won</td>\n",
       "      <td>Darren Webster</td>\n",
       "      <td>6 V 5</td>\n",
       "    </tr>\n",
       "  </tbody>\n",
       "</table>\n",
       "</div>"
      ],
      "text/plain": [
       "          player_name        date                          event category  \\\n",
       "0  Michael van Gerwen  10/05/2018                 Premier League    PDC U   \n",
       "1  Michael van Gerwen  06/05/2018  PDC European Darts Grand Prix   PDC ET   \n",
       "2  Michael van Gerwen  06/05/2018  PDC European Darts Grand Prix   PDC ET   \n",
       "3  Michael van Gerwen  06/05/2018  PDC European Darts Grand Prix   PDC ET   \n",
       "4  Michael van Gerwen  06/05/2018  PDC European Darts Grand Prix   PDC ET   \n",
       "\n",
       "     event_round   result        opponent  score  \n",
       "0      League 10  Fixture   Gary Anderson         \n",
       "1          Final      Won      James Wade  8 V 3  \n",
       "2     Semi Final      Won   Michael Smith  7 V 0  \n",
       "3  Quarter Final      Won   Dave Chisnall  6 V 4  \n",
       "4        Last 16      Won  Darren Webster  6 V 5  "
      ]
     },
     "execution_count": 17,
     "metadata": {},
     "output_type": "execute_result"
    }
   ],
   "source": [
    "matches_df.head()"
   ]
  },
  {
   "cell_type": "code",
   "execution_count": 18,
   "metadata": {},
   "outputs": [],
   "source": [
    "def outcome_map(result):\n",
    "    if result == \"Won\":\n",
    "        return 1.0\n",
    "    elif result == \"Lost\":\n",
    "        return 0.0\n",
    "    else:\n",
    "        return 0.5\n",
    "\n",
    "#Drop matches that haven't yet happened\n",
    "matches_df = matches_df[matches_df['result'] != 'fixture']\n",
    "\n",
    "#Why are there some dups? Need to investigate\n",
    "matches_df.drop_duplicates(inplace=True)\n",
    "\n",
    "#Map outcomes to numerical values\n",
    "matches_df['Outcome'] = matches_df['result'].apply(outcome_map)"
   ]
  },
  {
   "cell_type": "code",
   "execution_count": 19,
   "metadata": {},
   "outputs": [],
   "source": [
    "#Rename columns - same as other versions\n",
    "matches_df.rename(index=str, columns={\"player_name\": \"Player 1\", \"opponent\": \"Player 2\",\"date\":\"Date\"},inplace=True)\n",
    "\n",
    "matches_df['Tourn'] = matches_df['event'].str.upper()\n",
    "\n",
    "matches_df['score'] =matches_df['score'].str.replace(' V ',':')\n",
    "\n",
    "\n",
    "\n",
    "#Only keep relevant columns\n",
    "elo_df = matches_df.loc[:,['Player 1','Player 2','Outcome','Date','Tourn','score']]\n"
   ]
  },
  {
   "cell_type": "code",
   "execution_count": 20,
   "metadata": {},
   "outputs": [],
   "source": [
    "#Drop mirror image fixtures. Quite crude, need to check\n",
    "already = []\n",
    "for player_name in elo_df['Player 1'].unique():\n",
    "    #Keep if - player name not current one, or rival not in 'already' group. \n",
    "    elo_df = elo_df[(elo_df['Player 1'] != player_name) | (-elo_df['Player 2'].isin(already))]\n",
    "    already.append(player_name)\n",
    "\n",
    "\n",
    "\n",
    "#Keep surname only\n",
    "elo_df['Surname 1'] = elo_df['Player 1'].str.split(' ',n=1).str.get(1).str.upper().str.strip()\n",
    "elo_df['Surname 2'] = elo_df['Player 2'].str.split(' ',n=1).str.get(1).str.upper().str.strip()\n"
   ]
  },
  {
   "cell_type": "code",
   "execution_count": 21,
   "metadata": {},
   "outputs": [],
   "source": [
    "#Turn date into datetime variable\n",
    "elo_df['Date'] = pd.to_datetime(elo_df['Date'])\n",
    "\n",
    "elo_df['year'] =elo_df['Date'].dt.year\n"
   ]
  },
  {
   "cell_type": "code",
   "execution_count": 22,
   "metadata": {},
   "outputs": [],
   "source": [
    "#Merge on odds data - quite crude.\n",
    "\n",
    "odds_df = pd.read_excel(\"../../Data/oddschecker/Darts_odds.xlsx\")\n",
    "\n",
    "def convert_frac_to_prob(frac):\n",
    "    if \"/\" in frac:\n",
    "        num, denom = frac.split(\"/\")\n",
    "        return int(denom) / (int(num) + int(denom))\n",
    "\n",
    "odds_df['p1_prob'] = odds_df['odds_1'].apply(convert_frac_to_prob)\n",
    "odds_df['p2_prob'] = odds_df['odds_2'].apply(convert_frac_to_prob)\n",
    "\n"
   ]
  },
  {
   "cell_type": "code",
   "execution_count": 23,
   "metadata": {},
   "outputs": [],
   "source": [
    "#clean player names\n",
    "odds_df['players'] = odds_df['players'].str.replacer('O\\'','O ',n=1).str.get(0)\n",
    "\n",
    "\n",
    "odds_df['Player 1'] = odds_df['players'].str.split(' - ',n=1).str.get(0)\n",
    "odds_df['Player 2'] = odds_df['players'].str.split(' - ',n=1).str.get(1)\n",
    "\n",
    "odds_df['Surname 1'] = odds_df['Player 1'].str.slice(0,-2).str.upper().str.strip()\n",
    "odds_df['Surname 2'] = odds_df['Player 2'].str.slice(0,-2).str.upper().str.strip()\n",
    "\n",
    "odds_df['Tourn']=odds_df['tournament_name'].str.split('/').str.get(-1).str.replace(\"-\",\" \").str.upper()\n",
    "\n"
   ]
  },
  {
   "cell_type": "code",
   "execution_count": 24,
   "metadata": {},
   "outputs": [],
   "source": [
    "#Same odds, the opposite way around\n",
    "opp_df = odds_df.copy()\n",
    "\n",
    "opp_df.rename(index=str, \\\n",
    "columns= {\"odds_1\": \"odds_2\", \"odds_2\": \"odds_1\",\"Player 1\":\"Player 2\",\"Player 2\":\"Player 1\",\"Surname 1\":\"Surname 2\", \\\n",
    "\"Surname 2\":\"Surname 1\"},inplace=True)\n",
    "\n",
    "#Doesn't work for games > 10.\n",
    "opp_df['score']=opp_df['score'].apply(lambda x: x[::-1])\n",
    "\n",
    "odds_df = odds_df.append(opp_df,ignore_index=True,sort=False)\n",
    "        \n"
   ]
  },
  {
   "cell_type": "code",
   "execution_count": 25,
   "metadata": {},
   "outputs": [],
   "source": [
    "merged_df = pd.merge(odds_df, elo_df,  how='outer',left_on=['Surname 1','Surname 2','Tourn','score'],right_on=['Surname 1','Surname 2','Tourn','score'],indicator=True)"
   ]
  },
  {
   "cell_type": "code",
   "execution_count": 27,
   "metadata": {},
   "outputs": [
    {
     "data": {
      "text/plain": [
       "right_only    76321\n",
       "left_only     11760\n",
       "both           3022\n",
       "Name: _merge, dtype: int64"
      ]
     },
     "execution_count": 27,
     "metadata": {},
     "output_type": "execute_result"
    }
   ],
   "source": [
    "merged_df['_merge'].value_counts()"
   ]
  },
  {
   "cell_type": "code",
   "execution_count": 29,
   "metadata": {},
   "outputs": [],
   "source": [
    "left = merged_df[merged_df['_merge'] == 'left_only']\n",
    "right = merged_df[merged_df['_merge'] == 'right_only']"
   ]
  },
  {
   "cell_type": "code",
   "execution_count": 45,
   "metadata": {},
   "outputs": [
    {
     "data": {
      "text/plain": [
       "NEWTON                      189\n",
       "BURNETT                      66\n",
       "RODRIGUEZ ROW.               62\n",
       "LLOYD                        59\n",
       "OSBORNE                      55\n",
       "O'SHEA                       45\n",
       "DOBEY C                      44\n",
       "O'CONNOR                     42\n",
       "OVENS                        42\n",
       "STOMPE                       39\n",
       "KELLETT                      37\n",
       "MONK                         34\n",
       "PRIESTLEY                    32\n",
       "ARTUT                        32\n",
       "ROBSON                       30\n",
       "HANKEY                       29\n",
       "DUDBRIDGE                    28\n",
       "ENGLA                        25\n",
       "MCDINE                       24\n",
       "SEYLER                       22\n",
       "NETHERLAN                    22\n",
       "HUBBARD                      21\n",
       "BELGI                        21\n",
       "HYLTON                       19\n",
       "ROITH                        18\n",
       "VAN EIJDEN                   17\n",
       "HAINES                       17\n",
       "PRINS                        17\n",
       "LANGENDORF                   17\n",
       "BOWLES                       16\n",
       "                           ... \n",
       "BRENT                         1\n",
       "PRINS S.                      1\n",
       "JONES W.                      1\n",
       "SPARIDAANS                    1\n",
       "SAYRE                         1\n",
       "KUIJTEN                       1\n",
       "PRUIM                         1\n",
       "BEZZEG N./ZSOLT               1\n",
       "DAVIES                        1\n",
       "HUYBRECHTS K./HUYBRECHTS      1\n",
       "WILLARD                       1\n",
       "LATIF SAPUP M.                1\n",
       "ATTARD                        1\n",
       "BRENNEMAN                     1\n",
       "XIE                           1\n",
       "KATSUYA                       1\n",
       "LEUNG K.                      1\n",
       "MCKINSTRY                     1\n",
       "O'BRIEN                       1\n",
       "HEAD S.                       1\n",
       "BECKER                        1\n",
       "CHEN H.                       1\n",
       "MERCHANT                      1\n",
       "KILLINGTON                    1\n",
       "FRENCH                        1\n",
       "MILES                         1\n",
       "QIANG                         1\n",
       "GILDING A.                    1\n",
       "ILAGAN L.                     1\n",
       "GIES                          1\n",
       "Name: Surname 1, Length: 566, dtype: int64"
      ]
     },
     "execution_count": 45,
     "metadata": {},
     "output_type": "execute_result"
    }
   ],
   "source": [
    "def count_non_matches(df1,df2,col):\n",
    "    pass\n",
    "\n",
    "odds_df[-odds_df['Surname 1'].isin(elo_df['Surname 1'])]['Surname 1'].value_counts()\n",
    "\n",
    "\n"
   ]
  },
  {
   "cell_type": "code",
   "execution_count": 46,
   "metadata": {},
   "outputs": [
    {
     "data": {
      "text/plain": [
       "JOHN RODRIGUEZ    512\n",
       "O CONNOR          463\n",
       "DOBEY             255\n",
       "KRCMAR             69\n",
       "HADZALI SHAH       34\n",
       "CHUL PARK          12\n",
       "Name: Surname 1, dtype: int64"
      ]
     },
     "execution_count": 46,
     "metadata": {},
     "output_type": "execute_result"
    }
   ],
   "source": [
    "elo_df[-elo_df['Surname 1'].isin(odds_df['Surname 1'])]['Surname 1'].value_counts()"
   ]
  },
  {
   "cell_type": "code",
   "execution_count": null,
   "metadata": {},
   "outputs": [],
   "source": []
  }
 ],
 "metadata": {
  "kernelspec": {
   "display_name": "Python 3",
   "language": "python",
   "name": "python3"
  },
  "language_info": {
   "codemirror_mode": {
    "name": "ipython",
    "version": 3
   },
   "file_extension": ".py",
   "mimetype": "text/x-python",
   "name": "python",
   "nbconvert_exporter": "python",
   "pygments_lexer": "ipython3",
   "version": "3.7.0"
  }
 },
 "nbformat": 4,
 "nbformat_minor": 2
}
