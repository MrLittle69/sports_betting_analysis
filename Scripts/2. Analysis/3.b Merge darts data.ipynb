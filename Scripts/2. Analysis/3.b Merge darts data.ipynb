{
 "cells": [
  {
   "cell_type": "code",
   "execution_count": 53,
   "metadata": {},
   "outputs": [],
   "source": [
    "import pandas as pd\n",
    "import seaborn\n",
    "from IPython import embed\n",
    "import elo_functions as elo\n",
    "from matplotlib import pyplot as plt\n",
    "from scipy import optimize\n",
    "import numpy as np\n"
   ]
  },
  {
   "cell_type": "code",
   "execution_count": 54,
   "metadata": {},
   "outputs": [],
   "source": [
    "matches_df = pd.read_excel(\"../../Data/dartsdatabase/Results2.xlsx\")"
   ]
  },
  {
   "cell_type": "code",
   "execution_count": 55,
   "metadata": {},
   "outputs": [
    {
     "data": {
      "text/html": [
       "<div>\n",
       "<style scoped>\n",
       "    .dataframe tbody tr th:only-of-type {\n",
       "        vertical-align: middle;\n",
       "    }\n",
       "\n",
       "    .dataframe tbody tr th {\n",
       "        vertical-align: top;\n",
       "    }\n",
       "\n",
       "    .dataframe thead th {\n",
       "        text-align: right;\n",
       "    }\n",
       "</style>\n",
       "<table border=\"1\" class=\"dataframe\">\n",
       "  <thead>\n",
       "    <tr style=\"text-align: right;\">\n",
       "      <th></th>\n",
       "      <th>player_name</th>\n",
       "      <th>date</th>\n",
       "      <th>event</th>\n",
       "      <th>category</th>\n",
       "      <th>event_round</th>\n",
       "      <th>result</th>\n",
       "      <th>opponent</th>\n",
       "      <th>score</th>\n",
       "    </tr>\n",
       "  </thead>\n",
       "  <tbody>\n",
       "    <tr>\n",
       "      <th>0</th>\n",
       "      <td>Michael van Gerwen</td>\n",
       "      <td>10/05/2018</td>\n",
       "      <td>Premier League</td>\n",
       "      <td>PDC U</td>\n",
       "      <td>League 10</td>\n",
       "      <td>Fixture</td>\n",
       "      <td>Gary Anderson</td>\n",
       "      <td></td>\n",
       "    </tr>\n",
       "    <tr>\n",
       "      <th>1</th>\n",
       "      <td>Michael van Gerwen</td>\n",
       "      <td>06/05/2018</td>\n",
       "      <td>PDC European Darts Grand Prix</td>\n",
       "      <td>PDC ET</td>\n",
       "      <td>Final</td>\n",
       "      <td>Won</td>\n",
       "      <td>James Wade</td>\n",
       "      <td>8 V 3</td>\n",
       "    </tr>\n",
       "    <tr>\n",
       "      <th>2</th>\n",
       "      <td>Michael van Gerwen</td>\n",
       "      <td>06/05/2018</td>\n",
       "      <td>PDC European Darts Grand Prix</td>\n",
       "      <td>PDC ET</td>\n",
       "      <td>Semi Final</td>\n",
       "      <td>Won</td>\n",
       "      <td>Michael Smith</td>\n",
       "      <td>7 V 0</td>\n",
       "    </tr>\n",
       "    <tr>\n",
       "      <th>3</th>\n",
       "      <td>Michael van Gerwen</td>\n",
       "      <td>06/05/2018</td>\n",
       "      <td>PDC European Darts Grand Prix</td>\n",
       "      <td>PDC ET</td>\n",
       "      <td>Quarter Final</td>\n",
       "      <td>Won</td>\n",
       "      <td>Dave Chisnall</td>\n",
       "      <td>6 V 4</td>\n",
       "    </tr>\n",
       "    <tr>\n",
       "      <th>4</th>\n",
       "      <td>Michael van Gerwen</td>\n",
       "      <td>06/05/2018</td>\n",
       "      <td>PDC European Darts Grand Prix</td>\n",
       "      <td>PDC ET</td>\n",
       "      <td>Last 16</td>\n",
       "      <td>Won</td>\n",
       "      <td>Darren Webster</td>\n",
       "      <td>6 V 5</td>\n",
       "    </tr>\n",
       "  </tbody>\n",
       "</table>\n",
       "</div>"
      ],
      "text/plain": [
       "          player_name        date                          event category  \\\n",
       "0  Michael van Gerwen  10/05/2018                 Premier League    PDC U   \n",
       "1  Michael van Gerwen  06/05/2018  PDC European Darts Grand Prix   PDC ET   \n",
       "2  Michael van Gerwen  06/05/2018  PDC European Darts Grand Prix   PDC ET   \n",
       "3  Michael van Gerwen  06/05/2018  PDC European Darts Grand Prix   PDC ET   \n",
       "4  Michael van Gerwen  06/05/2018  PDC European Darts Grand Prix   PDC ET   \n",
       "\n",
       "     event_round   result        opponent  score  \n",
       "0      League 10  Fixture   Gary Anderson         \n",
       "1          Final      Won      James Wade  8 V 3  \n",
       "2     Semi Final      Won   Michael Smith  7 V 0  \n",
       "3  Quarter Final      Won   Dave Chisnall  6 V 4  \n",
       "4        Last 16      Won  Darren Webster  6 V 5  "
      ]
     },
     "execution_count": 55,
     "metadata": {},
     "output_type": "execute_result"
    }
   ],
   "source": [
    "matches_df.head()"
   ]
  },
  {
   "cell_type": "code",
   "execution_count": 56,
   "metadata": {},
   "outputs": [],
   "source": [
    "def outcome_map(result):\n",
    "    if result == \"Won\":\n",
    "        return 1.0\n",
    "    elif result == \"Lost\":\n",
    "        return 0.0\n",
    "    else:\n",
    "        return 0.5\n",
    "\n",
    "#Drop matches that haven't yet happened\n",
    "matches_df = matches_df[matches_df['result'] != 'fixture']\n",
    "\n",
    "#Why are there some dups? Need to investigate\n",
    "matches_df.drop_duplicates(inplace=True)\n",
    "\n",
    "#Map outcomes to numerical values\n",
    "matches_df['Outcome'] = matches_df['result'].apply(outcome_map)"
   ]
  },
  {
   "cell_type": "code",
   "execution_count": 68,
   "metadata": {},
   "outputs": [
    {
     "name": "stderr",
     "output_type": "stream",
     "text": [
      "c:\\users\\oliver.cairns\\appdata\\local\\programs\\python\\python37-32\\lib\\site-packages\\ipykernel_launcher.py:13: SettingWithCopyWarning: \n",
      "A value is trying to be set on a copy of a slice from a DataFrame.\n",
      "Try using .loc[row_indexer,col_indexer] = value instead\n",
      "\n",
      "See the caveats in the documentation: http://pandas.pydata.org/pandas-docs/stable/indexing.html#indexing-view-versus-copy\n",
      "  del sys.path[0]\n"
     ]
    }
   ],
   "source": [
    "#Rename columns - same as other versions\n",
    "matches_df.rename(index=str, columns={\"player_name\": \"Player 1\", \"opponent\": \"Player 2\",\"date\":\"Date\"},inplace=True)\n",
    "\n",
    "matches_df['Tourn'] = matches_df['event'].str.upper()\n",
    "\n",
    "matches_df['score'] =matches_df['score'].str.replace(' V ',':')\n",
    "\n",
    "#Clean tournament name\n",
    "tourn_mappings = [\n",
    "    [\"GRAND SLAM OF DARTS\",\"GRAND SLAM\"]\n",
    "]\n",
    "for m in tourn_mappings:\n",
    "    matches_df[matches_df['Tourn'] == m[0]]['Tourn'] = m[1]\n",
    "\n",
    "\n"
   ]
  },
  {
   "cell_type": "code",
   "execution_count": 97,
   "metadata": {},
   "outputs": [],
   "source": [
    "matches_df['Tourn'] = matches_df['Tourn'].str.replace('GRAND SLAM OF DARTS','GRAND SLAM')\n",
    "#Only keep relevant columns\n",
    "elo_df = matches_df.loc[:,['Player 1','Player 2','Outcome','Date','Tourn','score']]\n"
   ]
  },
  {
   "cell_type": "code",
   "execution_count": 98,
   "metadata": {},
   "outputs": [],
   "source": [
    "#Drop mirror image fixtures. Quite crude, need to check\n",
    "already = []\n",
    "for player_name in elo_df['Player 1'].unique():\n",
    "    #Keep if - player name not current one, or rival not in 'already' group. \n",
    "    elo_df = elo_df[(elo_df['Player 1'] != player_name) | (-elo_df['Player 2'].isin(already))]\n",
    "    already.append(player_name)\n",
    "\n",
    "\n",
    "\n",
    "#Keep surname only\n",
    "elo_df['Surname 1'] = elo_df['Player 1'].str.split(' ',n=1).str.get(1).str.upper().str.strip()\n",
    "elo_df['Surname 2'] = elo_df['Player 2'].str.split(' ',n=1).str.get(1).str.upper().str.strip()\n"
   ]
  },
  {
   "cell_type": "code",
   "execution_count": 99,
   "metadata": {},
   "outputs": [],
   "source": [
    "#Turn date into datetime variable\n",
    "elo_df['Date'] = pd.to_datetime(elo_df['Date'])\n",
    "\n",
    "elo_df['year'] =elo_df['Date'].dt.year\n"
   ]
  },
  {
   "cell_type": "code",
   "execution_count": 71,
   "metadata": {},
   "outputs": [],
   "source": [
    "#Merge on odds data - quite crude.\n",
    "\n",
    "odds_df = pd.read_excel(\"../../Data/oddschecker/Darts_odds.xlsx\")\n",
    "\n",
    "def convert_frac_to_prob(frac):\n",
    "    if \"/\" in frac:\n",
    "        num, denom = frac.split(\"/\")\n",
    "        return int(denom) / (int(num) + int(denom))\n",
    "\n",
    "odds_df['p1_prob'] = odds_df['odds_1'].apply(convert_frac_to_prob)\n",
    "odds_df['p2_prob'] = odds_df['odds_2'].apply(convert_frac_to_prob)\n",
    "\n"
   ]
  },
  {
   "cell_type": "code",
   "execution_count": 72,
   "metadata": {},
   "outputs": [],
   "source": [
    "#clean player names\n",
    "odds_df['players'] = odds_df['players'].str.replace(\"O' \",'O ')\n",
    "\n",
    "\n",
    "odds_df['Player 1'] = odds_df['players'].str.split(' - ',n=1).str.get(0)\n",
    "odds_df['Player 2'] = odds_df['players'].str.split(' - ',n=1).str.get(1)\n",
    "\n",
    "odds_df['Surname 1'] = odds_df['Player 1'].str.slice(0,-2).str.upper().str.strip()\n",
    "odds_df['Surname 2'] = odds_df['Player 2'].str.slice(0,-2).str.upper().str.strip()\n",
    "\n",
    "odds_df['Tourn']=odds_df['tournament_name'].str.split('/').str.get(-1).str.replace(\"-\",\" \").str.upper()\n",
    "\n"
   ]
  },
  {
   "cell_type": "code",
   "execution_count": 73,
   "metadata": {},
   "outputs": [],
   "source": [
    "#Same odds, the opposite way around\n",
    "opp_df = odds_df.copy()\n",
    "\n",
    "opp_df.rename(index=str, \\\n",
    "columns= {\"odds_1\": \"odds_2\", \"odds_2\": \"odds_1\",\"Player 1\":\"Player 2\",\"Player 2\":\"Player 1\",\"Surname 1\":\"Surname 2\", \\\n",
    "\"Surname 2\":\"Surname 1\"},inplace=True)\n",
    "\n",
    "#Doesn't work for games > 10.\n",
    "opp_df['score']=opp_df['score'].apply(lambda x: x[::-1])\n",
    "\n",
    "odds_df = odds_df.append(opp_df,ignore_index=True,sort=False)\n",
    "        \n"
   ]
  },
  {
   "cell_type": "code",
   "execution_count": 100,
   "metadata": {},
   "outputs": [],
   "source": [
    "merged_df = pd.merge(odds_df, elo_df,  how='outer',left_on=['Surname 1','Surname 2','Tourn','score'],right_on=['Surname 1','Surname 2','Tourn','score'],indicator=True)"
   ]
  },
  {
   "cell_type": "code",
   "execution_count": 101,
   "metadata": {},
   "outputs": [
    {
     "data": {
      "text/plain": [
       "right_only    75996\n",
       "left_only     11437\n",
       "both           3349\n",
       "Name: _merge, dtype: int64"
      ]
     },
     "execution_count": 101,
     "metadata": {},
     "output_type": "execute_result"
    }
   ],
   "source": [
    "merged_df['_merge'].value_counts()"
   ]
  },
  {
   "cell_type": "code",
   "execution_count": 95,
   "metadata": {},
   "outputs": [],
   "source": [
    "left = merged_df[merged_df['_merge'] == 'left_only']\n",
    "right = merged_df[merged_df['_merge'] == 'right_only']"
   ]
  },
  {
   "cell_type": "code",
   "execution_count": 107,
   "metadata": {},
   "outputs": [
    {
     "name": "stdout",
     "output_type": "stream",
     "text": [
      "first - non matches\n",
      "EUROPEAN TOUR 5             668\n",
      "EUROPEAN TOUR 3             668\n",
      "EUROPEAN TOUR 2             668\n",
      "EUROPEAN TOUR 4             668\n",
      "EUROPEAN TOUR 1             664\n",
      "EUROPEAN TOUR 6             474\n",
      "EUROPEAN TOUR 8             474\n",
      "EUROPEAN TOUR 7             472\n",
      "CHAMPIONSHIP LEAGUE         400\n",
      "WORLD CUP TEAMS             326\n",
      "EUROPEAN TOUR 9             280\n",
      "WORLD CUP SINGLES           244\n",
      "EUROPEAN TOUR 10            188\n",
      "WORLD CHAMPIONSHIP WOMEN    180\n",
      "WORLD SERIES FINALS         136\n",
      "EUROPEAN TOUR 11             94\n",
      "EUROPEAN TOUR 12             94\n",
      "CHAMPIONS LEAGUE             60\n",
      "TOKYO MASTERS                30\n",
      "PLAYERS CHAMPIONSHIP 9       28\n",
      "WORLD CUP DOUBLES            26\n",
      "SINGAPORE MASTERS            14\n",
      "PLAYERS CHAMPIONSHIP 7       14\n",
      "PLAYERS CHAMPIONSHIP 8       12\n",
      "PLAYERS CHAMPIONSHIP 3       12\n",
      "PLAYERS CHAMPIONSHIP 4       12\n",
      "PLAYERS CHAMPIONSHIP 6       10\n",
      "PLAYERS CHAMPIONSHIP 1       10\n",
      "PLAYERS CHAMPIONSHIP 2       10\n",
      "PLAYERS CHAMPIONSHIP 10       8\n",
      "PLAYERS CHAMPIONSHIP 5        8\n",
      "JOCKY WILSON CUP SINGLES      8\n",
      "JOCKY WILSON CUP DOUBLES      2\n",
      "Name: Tourn, dtype: int64\n",
      "\n",
      "second - all\n",
      "CHAMPIONSHIP OF DARTS                           1561\n",
      "WORLD MASTERS                                   1357\n",
      "UK OPEN                                         1254\n",
      "UK OPEN QUALIFIER 5                             1231\n",
      "UK OPEN QUALIFIER 1                             1229\n",
      "UK OPEN QUALIFIER 2                             1228\n",
      "UK OPEN QUALIFIER 4                             1222\n",
      "UK OPEN QUALIFIER 6                             1217\n",
      "UK OPEN QUALIFIER 3                             1217\n",
      "PDPA PLAYERS CHAMPIONSHIP BARNSLEY 1            1011\n",
      "PDPA PLAYERS CHAMPIONSHIP BARNSLEY 2             986\n",
      "PDC WORLD CHAMPIONSHIP                           859\n",
      "PREMIER LEAGUE                                   845\n",
      "GRAND SLAM WILD CARD QUALIFIER                   806\n",
      "PDPA PLAYERS CHAMPIONSHIP BARNSLEY 3             749\n",
      "PDPA PLAYERS CHAMPIONSHIP BARNSLEY 4             730\n",
      "PDPA PLAYERS CHAMPIONSHIP IRELAND 1              683\n",
      "PDPA PLAYERS CHAMPIONSHIP IRELAND 2              672\n",
      "GRAND SLAM                                       663\n",
      "PDPA PLAYERS CHAMPIONSHIP CRAWLEY 1              655\n",
      "PDPA PLAYERS CHAMPIONSHIP CRAWLEY 2              636\n",
      "BDO WORLD CHAMPIONSHIP                           591\n",
      "BDO WORLD CHAMPIONSHIP QUALIFIERS                562\n",
      "PDC GERMAN DARTS CHAMPIONSHIP                    519\n",
      "WORLD MATCHPLAY                                  498\n",
      "PDC WORLD CHAMPIONSHIP QUALIFIERS                496\n",
      "PDPA PLAYERS CHAMPIONSHIP WIGAN 2                470\n",
      "PDPA PLAYERS CHAMPIONSHIP WIGAN 1                469\n",
      "PDPA PLAYERS CHAMPIONSHIP BARNSLEY 7             469\n",
      "WORLD GRAND PRIX                                 445\n",
      "                                                ... \n",
      "OPEN DSIGN                                         1\n",
      "COOTA                                              1\n",
      "ESSEX OPEN                                         1\n",
      "EASTBOURNE OPEN 1                                  1\n",
      "BRITISH MASTERS                                    1\n",
      "BOURNEMOUTH MENS SINGLES                           1\n",
      "PDC NORTHERN IRELAND OPEN                          1\n",
      "CLEVELAND DARTS EXTRAVEGANZA                       1\n",
      "SOFT TIP DARTSLIVE HONG KONG 1                     1\n",
      "NORTHUMBERLAND OPEN                                1\n",
      "DUNDEE OPEN                                        1\n",
      "KLONDIKE OPEN                                      1\n",
      "FINNISH CLASSIC                                    1\n",
      "DPA AUSTRALIAN PRO TOUR WESTERN AUSTRALIA 16       1\n",
      "ROBINA GOLD COAST OPEN 2                           1\n",
      "RILEYS WOLVERHAMPTON OPEN                          1\n",
      "STANTON OPEN                                       1\n",
      "COOMA HOTEL OPEN 2                                 1\n",
      "BALA OPEN                                          1\n",
      "GLENCARN INTERNATIONAL CLASSIC                     1\n",
      "RUTHERGLEN OPEN                                    1\n",
      "IRELAND OPEN SPRING CLASSIC                        1\n",
      "GREAT MOUNTAIN WORKINGMENS CLUB OPEN               1\n",
      "SOFT TIP DARTSLIVE ASIA OPEN                       1\n",
      "GDO OPEN                                           1\n",
      "RIGA MASTERS                                       1\n",
      "PDC NATIONS CUP SINGLES                            1\n",
      "SOFT TIP DARTSLIVE KOREA                           1\n",
      "SCANIA OPEN                                        1\n",
      "MAYTIME FESTIVAL                                   1\n",
      "Name: Tourn, Length: 1053, dtype: int64\n"
     ]
    }
   ],
   "source": [
    "def count_non_matches(df1,df2,col):\n",
    "    \n",
    "    first = df1[-df1[col].isin(df2[col])][col].value_counts()\n",
    "    second = df2[col].value_counts()\n",
    "    print('first - non matches')\n",
    "    print(first)\n",
    "    print()\n",
    "    print('second - all')\n",
    "    print(second)\n",
    "    \n",
    "count_non_matches(odds_df,elo_df,'Tourn')\n",
    "\n"
   ]
  },
  {
   "cell_type": "code",
   "execution_count": 108,
   "metadata": {},
   "outputs": [
    {
     "data": {
      "text/plain": [
       "EUROPEAN CHAMPIONSHIP              302\n",
       "EUROPEAN DARTS CLASSIC              26\n",
       "EUROPEAN DARTS OPEN                 19\n",
       "EUROPEAN CHAMPIONSHIP QUALIFIER     13\n",
       "EUROPEAN MASTERS                     8\n",
       "Name: Tourn, dtype: int64"
      ]
     },
     "execution_count": 108,
     "metadata": {},
     "output_type": "execute_result"
    }
   ],
   "source": [
    "elo_df[elo_df['Tourn'].str.match(\"EUROPEAN\")]['Tourn'].value_counts()"
   ]
  },
  {
   "cell_type": "code",
   "execution_count": null,
   "metadata": {},
   "outputs": [],
   "source": []
  },
  {
   "cell_type": "code",
   "execution_count": 66,
   "metadata": {},
   "outputs": [
    {
     "data": {
      "text/plain": [
       "Index(['odds_1', 'odds_2', 'players', 'score', 'tournament_name', 'year',\n",
       "       'p1_prob', 'p2_prob', 'Player 1', 'Player 2', 'Surname 1', 'Surname 2',\n",
       "       'Tourn'],\n",
       "      dtype='object')"
      ]
     },
     "execution_count": 66,
     "metadata": {},
     "output_type": "execute_result"
    }
   ],
   "source": []
  },
  {
   "cell_type": "code",
   "execution_count": null,
   "metadata": {},
   "outputs": [],
   "source": []
  }
 ],
 "metadata": {
  "kernelspec": {
   "display_name": "Python 3",
   "language": "python",
   "name": "python3"
  },
  "language_info": {
   "codemirror_mode": {
    "name": "ipython",
    "version": 3
   },
   "file_extension": ".py",
   "mimetype": "text/x-python",
   "name": "python",
   "nbconvert_exporter": "python",
   "pygments_lexer": "ipython3",
   "version": "3.7.0"
  }
 },
 "nbformat": 4,
 "nbformat_minor": 2
}
